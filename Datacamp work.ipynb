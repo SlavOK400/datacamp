{
 "cells": [
  {
   "cell_type": "code",
   "execution_count": 55,
   "metadata": {},
   "outputs": [
    {
     "data": {
      "image/png": "[encoded data removed]",
      "text/plain": [
       "<Figure size 432x288 with 1 Axes>"
      ]
     },
     "metadata": {},
     "output_type": "display_data"
    }
   ],
   "source": [
    "# Pandas Datacamp course extension \n",
    "\n",
    "#TABLE['COLUMN'].unique()   #to return unique value only\n",
    "\n",
    "# How to filter a database?\n",
    "import pandas as pd\n",
    "import matplotlib.pyplot as plt\n",
    "import numpy as np\n",
    "\n",
    "iris = pd.DataFrame(pd.read_csv(r'C:\\Users\\spiris\\Desktop\\Python\\iris.csv'))\n",
    "\n",
    "indicies = iris['Species'] ==  'setosa'   #OR JUST USE setosa = setosa[setosa['Species'] == 'setosa']\n",
    "setosa = iris.loc[indicies, :]\n",
    "\n",
    "indicies = iris['Species']  == 'versicolor'\n",
    "versicolor = iris.loc[indicies,:]\n",
    "\n",
    "indicies = iris['Species']  == 'virginica'\n",
    "virginica = iris.loc[indicies,:]\n",
    "\n",
    "del setosa['Species'], versicolor['Species'], virginica['Species']   # to delete the last column from all these tables\n",
    "\n",
    "virginica.plot(kind = 'hist', bins = 30,range=(0,8), alpha = 0.3)  # alpha ads transparency \n",
    "plt.show()\n",
    "\n",
    "# Finding standart errors in statistics"
   ]
  },
  {
   "cell_type": "code",
   "execution_count": 66,
   "metadata": {},
   "outputs": [],
   "source": [
    "desribe_all = iris.describe()\n",
    "desribe_setosa = setosa.describe()\n",
    "desribe_versicolor = versicolor.describe()\n",
    "desribe_virginica = virginica.describe()\n",
    "\n",
    "# 100*|mean all - mean specific|/ mean specific\n",
    "\n",
    "erros_setosa = 100 * np.abs(desribe_setosa - desribe_all)\n",
    "erros_setosa = erros_setosa / desribe_setosa\n",
    "\n",
    "erros_versicolor = 100 * np.abs(desribe_versicolor - desribe_all)\n",
    "erros_versicolor = erros_versicolor / desribe_versicolor\n",
    "\n",
    "erros_virginica = 100 * np.abs(desribe_virginica - desribe_all)\n",
    "erros_virginica = erros_virginica / desribe_virginica"
   ]
  },
  {
   "cell_type": "raw",
   "metadata": {},
   "source": [
    "Dealing with Date/Time\n",
    "\n",
    "evening_2_11 = pd.to_datetime['2015_02_02', '2015_04_09']  t oconvirst string to date/time\n",
    "\n",
    "use TABLE.reindex(evening_2_11, method = 'ffill') to reindex the list in the table and add into the table\n",
    "                                                  to replace the missing values by the  next first non null value use 'ffill'\n",
    "                                                  or 'bfill' to use the last non null value. \n",
    "\n",
    "pd.read_csv(        add parse_dates = True, index_col = 'COLUMN') to parse dates and use it as an index  \n",
    "\n"
   ]
  },
  {
   "cell_type": "code",
   "execution_count": null,
   "metadata": {},
   "outputs": [],
   "source": []
  }
 ],
 "metadata": {
  "kernelspec": {
   "display_name": "Python 3",
   "language": "python",
   "name": "python3"
  },
  "language_info": {
   "codemirror_mode": {
    "name": "ipython",
    "version": 3
   },
   "file_extension": ".py",
   "mimetype": "text/x-python",
   "name": "python",
   "nbconvert_exporter": "python",
   "pygments_lexer": "ipython3",
   "version": "3.7.4"
  }
 },
 "nbformat": 4,
 "nbformat_minor": 2
}
